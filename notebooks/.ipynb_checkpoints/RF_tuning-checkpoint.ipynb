{
 "cells": [
  {
   "cell_type": "code",
   "execution_count": 79,
   "id": "e52f254c-5328-4869-b629-cd5393f69671",
   "metadata": {},
   "outputs": [],
   "source": [
    "import numpy as np\n",
    "import matplotlib.pyplot as plt\n",
    "import tensorflow as tf\n",
    "import PIL\n",
    "import os\n",
    "import glob\n",
    "import seaborn as sns\n",
    "import matplotlib.pyplot as plt\n",
    "import pandas as pd\n",
    "from collections import Counter\n",
    "from sklearn.ensemble import RandomForestClassifier\n",
    "from sklearn.metrics import classification_report, confusion_matrix\n",
    "from sklearn.model_selection import train_test_split, RandomizedSearchCV\n",
    "from sklearn.model_selection import RepeatedStratifiedKFold\n",
    "from sklearn.utils import shuffle\n",
    "import pickle"
   ]
  },
  {
   "cell_type": "code",
   "execution_count": 2,
   "id": "ac617cc2-4e6e-48c9-8eda-adfbb2730a83",
   "metadata": {},
   "outputs": [],
   "source": [
    "def load_dataset(path):\n",
    "    label_key = {'center':0,\n",
    "             'down':1,\n",
    "             'left':2,\n",
    "             'right':3,\n",
    "             'up':4}\n",
    "    X = []\n",
    "    y = []\n",
    "    for class_name in label_key.keys():\n",
    "        class_path = os.path.join(path, class_name)\n",
    "        files = glob.glob(os.path.join(class_path,'*.jpg'))\n",
    "        for f in files:\n",
    "            image = np.asarray(PIL.Image.open(f))\n",
    "            image = np.expand_dims(image, axis=0)\n",
    "            X.append(image)\n",
    "            y.append(label_key[class_name])\n",
    "    return np.concatenate(X), np.array(y)\n",
    "\n",
    "def reshape_for_randomforest(images):\n",
    "    \"\"\"reshapes image matrices into column vectors for use\n",
    "    with sklearn RandomForestClassifier\"\"\"\n",
    "    return np.reshape(images, (-1, images.shape[1]*images.shape[2]))"
   ]
  },
  {
   "cell_type": "code",
   "execution_count": 103,
   "id": "4c85bf26-1744-497e-9b1f-3bbb041728ed",
   "metadata": {},
   "outputs": [],
   "source": [
    "def plot_confusion_matrix(ytrue, ypred, title, path):\n",
    "    \"\"\"plots and saves a confusion matrix and \n",
    "    prints a classification report\"\"\"\n",
    "    confusion_arr = confusion_matrix(ytrue, ypred)\n",
    "\n",
    "    df_cm = pd.DataFrame(confusion_arr, \n",
    "      index = ['center', 'down', 'left', 'right', 'up'],\n",
    "      columns = ['center', 'down', 'left', 'right', 'up'])\n",
    "\n",
    "    fig = plt.figure(figsize=(10,10))\n",
    "    plt.clf()\n",
    "    ax = fig.add_subplot(111)\n",
    "    ax.set_aspect(1)\n",
    "    cmap = sns.cubehelix_palette(light=1, as_cmap=True)\n",
    "    res = sns.heatmap(df_cm, annot=True, vmin=0.0, vmax=100.0, fmt='1d', cmap=cmap, cbar=False)\n",
    "    res.invert_yaxis()\n",
    "    plt.title(title)\n",
    "    filename = '_'.join(title.lower().split())\n",
    "    savepath = os.path.join(path, f'{filename}.png')\n",
    "    plt.savefig(f'{filename}.png', dpi=100, bbox_inches='tight')\n",
    "    plt.show()\n",
    "    plt.close()\n",
    "    report = classification_report(ytrue, ypred)\n",
    "    print(report)"
   ]
  },
  {
   "cell_type": "code",
   "execution_count": 101,
   "id": "cdfc055a-89af-42e5-9e6d-feb29351fe61",
   "metadata": {},
   "outputs": [],
   "source": [
    "modelpath = '../models/'\n",
    "plotpath = '../plots/'"
   ]
  },
  {
   "cell_type": "code",
   "execution_count": 3,
   "id": "4613d760-ab22-495d-a94a-90c888b7fa15",
   "metadata": {},
   "outputs": [],
   "source": [
    "# load processed data for train/dev sets\n",
    "X_train, y_train = load_dataset('./data/train/')\n",
    "X_dev, y_dev = load_dataset('./data/dev/')"
   ]
  },
  {
   "cell_type": "code",
   "execution_count": 4,
   "id": "cd7acda3-da0f-4cb5-8324-ed5c5e2bc783",
   "metadata": {},
   "outputs": [],
   "source": [
    "# Reshsape input data as vectors\n",
    "train_reshaped = reshape_for_randomforest(X_train)\n",
    "dev_reshaped = reshape_for_randomforest(X_dev)"
   ]
  },
  {
   "cell_type": "code",
   "execution_count": 25,
   "id": "4473e1f5-3807-4a5e-8a75-c93f2c750985",
   "metadata": {},
   "outputs": [],
   "source": [
    "# cv = RepeatedStratifiedKFold(n_splits=10, n_repeats=3, random_state=1)\n",
    "model = RandomForestClassifier()"
   ]
  },
  {
   "cell_type": "code",
   "execution_count": 26,
   "id": "da6f0caa-9e7b-4ee4-9f00-275ae04211b1",
   "metadata": {},
   "outputs": [],
   "source": [
    "n_estimators = [100, 500, 1000]\n",
    "max_depth = [5, 15, 30]\n",
    "min_samples_split = [2, 10, 15]\n",
    "min_samples_leaf = [1, 5] \n",
    "\n",
    "param_space = {'n_estimators' : n_estimators, \n",
    "          'max_depth' : max_depth,  \n",
    "          'min_samples_split' : min_samples_split, \n",
    "          'min_samples_leaf' : min_samples_leaf,}"
   ]
  },
  {
   "cell_type": "code",
   "execution_count": 27,
   "id": "467e4c56-aa0e-467d-80b8-de2e6a786976",
   "metadata": {},
   "outputs": [
    {
     "name": "stdout",
     "output_type": "stream",
     "text": [
      "Fitting 5 folds for each of 10 candidates, totalling 50 fits\n"
     ]
    }
   ],
   "source": [
    "search = RandomizedSearchCV(model, param_space, n_iter=10, \n",
    "                            scoring='accuracy', n_jobs=-1,\n",
    "                            random_state=1,\n",
    "                            verbose=4)\n",
    "result = search.fit(train_reshaped, y_train)"
   ]
  },
  {
   "cell_type": "code",
   "execution_count": 34,
   "id": "e60e3019-85c9-4c33-a8b8-a1869aa440c1",
   "metadata": {},
   "outputs": [],
   "source": [
    "best_hyperparameters = result.best_params_\n",
    "best_hyperparameters"
   ]
  },
  {
   "cell_type": "code",
   "execution_count": 36,
   "id": "6bd21a7c-76b3-4e06-bfeb-75fc7b4bf4d5",
   "metadata": {},
   "outputs": [],
   "source": [
    "tuned_rf_model = RandomForestClassifier(n_estimators=500, \n",
    "                                        min_samples_split=10, \n",
    "                                        min_samples_leaf=1,\n",
    "                                        max_depth=30)"
   ]
  },
  {
   "cell_type": "code",
   "execution_count": 44,
   "id": "9896381e-8f02-4ad4-9485-f9a30b453c66",
   "metadata": {},
   "outputs": [
    {
     "data": {
      "text/plain": [
       "RandomForestClassifier(max_depth=30, min_samples_split=10, n_estimators=500)"
      ]
     },
     "execution_count": 44,
     "metadata": {},
     "output_type": "execute_result"
    }
   ],
   "source": [
    "tuned_rf_model.fit(train_reshaped, y_train)"
   ]
  },
  {
   "cell_type": "code",
   "execution_count": 49,
   "id": "70e2b96d-832d-4804-b095-2d75db6e5e7f",
   "metadata": {},
   "outputs": [],
   "source": [
    "ypred = tuned_rf_model.predict(dev_reshaped)"
   ]
  },
  {
   "cell_type": "code",
   "execution_count": 104,
   "id": "58b3c912-5e92-40cd-bd62-46f29c06d0e5",
   "metadata": {},
   "outputs": [
    {
     "data": {
      "image/png": "[encoded data removed]",
      "text/plain": [
       "<Figure size 720x720 with 1 Axes>"
      ]
     },
     "metadata": {},
     "output_type": "display_data"
    },
    {
     "name": "stdout",
     "output_type": "stream",
     "text": [
      "              precision    recall  f1-score   support\n",
      "\n",
      "           0       0.98      0.99      0.98      1149\n",
      "           1       0.97      0.99      0.98      1149\n",
      "           2       1.00      0.99      0.99      1149\n",
      "           3       1.00      0.99      0.99      1150\n",
      "           4       0.99      0.99      0.99      1149\n",
      "\n",
      "    accuracy                           0.99      5746\n",
      "   macro avg       0.99      0.99      0.99      5746\n",
      "weighted avg       0.99      0.99      0.99      5746\n",
      "\n"
     ]
    }
   ],
   "source": [
    "plot_confusion_matrix(y_dev, ypred, 'Tuned RF Dev Performance', plotpath)"
   ]
  },
  {
   "cell_type": "code",
   "execution_count": 80,
   "id": "d26b0dce-d48e-4f86-8fe9-2b263d51e331",
   "metadata": {},
   "outputs": [],
   "source": [
    "# save tuned model\n",
    "filename = os.path.join(modelpath, 'tuned_rf.sav')\n",
    "pickle.dump(tuned_rf_model, open(filename, 'wb'))"
   ]
  }
 ],
 "metadata": {
  "kernelspec": {
   "display_name": "Python 3",
   "language": "python",
   "name": "python3"
  },
  "language_info": {
   "codemirror_mode": {
    "name": "ipython",
    "version": 3
   },
   "file_extension": ".py",
   "mimetype": "text/x-python",
   "name": "python",
   "nbconvert_exporter": "python",
   "pygments_lexer": "ipython3",
   "version": "3.8.8"
  }
 },
 "nbformat": 4,
 "nbformat_minor": 5
}
