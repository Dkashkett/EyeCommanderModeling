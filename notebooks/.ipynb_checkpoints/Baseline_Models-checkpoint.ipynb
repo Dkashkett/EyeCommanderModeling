{
 "cells": [
  {
   "cell_type": "code",
   "execution_count": 351,
   "id": "7cc83a5f-4682-40b7-b460-a76e6abffdb6",
   "metadata": {},
   "outputs": [],
   "source": [
    "import numpy as np\n",
    "import matplotlib.pyplot as plt\n",
    "import tensorflow as tf\n",
    "import PIL\n",
    "import os\n",
    "import glob\n",
    "from collections import Counter\n",
    "from sklearn.ensemble import RandomForestClassifier, GradientBoostingClassifier\n",
    "from sklearn.metrics import classification_report\n",
    "from sklearn.utils import shuffle"
   ]
  },
  {
   "cell_type": "code",
   "execution_count": 340,
   "id": "75c2191f-c37e-45b9-bec7-7bb17faa9341",
   "metadata": {},
   "outputs": [],
   "source": [
    "def load_dataset(path:str):\n",
    "    \"\"\"loads a dataset given a path\"\"\"\n",
    "    label_key = {'center':0,\n",
    "             'down':1,\n",
    "             'left':2,\n",
    "             'right':3,\n",
    "             'up':4}\n",
    "    X = []\n",
    "    y = []\n",
    "    for class_name in label_key.keys():\n",
    "        class_path = os.path.join(path, class_name)\n",
    "        files = glob.glob(os.path.join(class_path,'*.jpg'))\n",
    "        for f in files:\n",
    "            image = np.asarray(PIL.Image.open(f))\n",
    "            image = np.expand_dims(image, axis=0)\n",
    "            X.append(image)\n",
    "            y.append(label_key[class_name])\n",
    "    return np.concatenate(X), np.array(y)\n",
    "\n",
    "def reshape_for_randomforest(images):\n",
    "    \"\"\"reshapes image matrices into column vectors for use\n",
    "    with sklearn RandomForestClassifier\"\"\"\n",
    "    return np.reshape(images, (-1, images.shape[1]*images.shape[2]))"
   ]
  },
  {
   "cell_type": "code",
   "execution_count": 335,
   "id": "8ea3eccb-b137-496c-925e-e90043b5a1d5",
   "metadata": {
    "tags": []
   },
   "outputs": [],
   "source": [
    "# load processed data for train/dev sets\n",
    "X_train, y_train = load_dataset('../data/train/')\n",
    "X_dev, y_dev = load_dataset('../data/dev/')"
   ]
  },
  {
   "cell_type": "code",
   "execution_count": 344,
   "id": "835f4395-0cbe-4107-8124-2dc687f7a0a9",
   "metadata": {},
   "outputs": [],
   "source": [
    "X_test, y_test = load_dataset('../data/test/')\n",
    "X_test, y_test = shuffle(X_test, y_test, random_state=0)"
   ]
  },
  {
   "cell_type": "markdown",
   "id": "06e75254-a80f-4b38-b06a-c5f14e24b4bd",
   "metadata": {},
   "source": [
    "### Random Forest"
   ]
  },
  {
   "cell_type": "code",
   "execution_count": 341,
   "id": "5b3316e0-836e-4771-8498-0a9d044a8044",
   "metadata": {},
   "outputs": [
    {
     "data": {
      "text/plain": [
       "RandomForestClassifier()"
      ]
     },
     "execution_count": 341,
     "metadata": {},
     "output_type": "execute_result"
    }
   ],
   "source": [
    "# Reshsape input data as vectors\n",
    "train_reshaped = reshape_for_randomforest(X_train)\n",
    "dev_reshaped = reshape_for_randomforest(X_dev)\n",
    "\n",
    "rf = RandomForestClassifier()\n",
    "rf.fit(train_reshaped, y_train)"
   ]
  },
  {
   "cell_type": "code",
   "execution_count": 342,
   "id": "70dc47f8-dca4-40e6-8baa-e79c14633831",
   "metadata": {},
   "outputs": [
    {
     "name": "stdout",
     "output_type": "stream",
     "text": [
      "              precision    recall  f1-score   support\n",
      "\n",
      "           0       0.98      0.99      0.98      1149\n",
      "           1       0.98      0.99      0.99      1149\n",
      "           2       1.00      0.99      0.99      1149\n",
      "           3       1.00      0.99      0.99      1150\n",
      "           4       1.00      0.99      0.99      1149\n",
      "\n",
      "    accuracy                           0.99      5746\n",
      "   macro avg       0.99      0.99      0.99      5746\n",
      "weighted avg       0.99      0.99      0.99      5746\n",
      "\n"
     ]
    }
   ],
   "source": [
    "ypred = rf.predict(dev_reshaped)\n",
    "results = classification_report(y_dev, ypred)\n",
    "print(results)"
   ]
  },
  {
   "cell_type": "markdown",
   "id": "992fbdce-55a0-4211-941c-51acc273a791",
   "metadata": {},
   "source": [
    "### Dense Neural Network"
   ]
  },
  {
   "cell_type": "code",
   "execution_count": 357,
   "id": "4aec6a61-2ec8-4206-8852-c163f7c8f9a3",
   "metadata": {},
   "outputs": [],
   "source": [
    "def build_dense_model():\n",
    "    input_layer = tf.keras.Input(shape=(2205, 1))\n",
    "    normalized_input = tf.keras.layers.experimental.preprocessing.Rescaling(1./255, input_shape=(2205, 1))(input_layer)\n",
    "    flattened = tf.keras.layers.Flatten()(normalized_input)\n",
    "    dense_layer1 = tf.keras.layers.Dense(1024, activation='relu')(flattened)\n",
    "    dense_layer2 = tf.keras.layers.Dense(512, activation='relu')(dense_layer1)\n",
    "    dense_layer3 = tf.keras.layers.Dense(128, activation='relu')(dense_layer2)\n",
    "    # output layer\n",
    "    output_layer = tf.keras.layers.Dense(5, activation='softmax')(dense_layer3)\n",
    "    # build model\n",
    "    model = tf.keras.Model(inputs=input_layer, outputs=output_layer)\n",
    "    return model"
   ]
  },
  {
   "cell_type": "code",
   "execution_count": 358,
   "id": "3195c26a-514f-4074-a428-518b2be4ec17",
   "metadata": {},
   "outputs": [],
   "source": [
    "baseline_dense = build_dense_model()\n",
    "# compiling\n",
    "optimizer = tf.keras.optimizers.Adam(learning_rate=0.001, name='Adam')\n",
    "baseline_dense.compile(optimizer=optimizer, \n",
    "              loss=tf.keras.losses.SparseCategoricalCrossentropy(from_logits=False),\n",
    "              metrics=['accuracy'])"
   ]
  },
  {
   "cell_type": "code",
   "execution_count": 359,
   "id": "ce9cfd39-5e15-4810-ad8d-5d1a0f9c7ff6",
   "metadata": {},
   "outputs": [
    {
     "name": "stdout",
     "output_type": "stream",
     "text": [
      "Epoch 1/10\n",
      "719/719 [==============================] - 10s 14ms/step - loss: 0.3380 - accuracy: 0.8974 - val_loss: 0.2055 - val_accuracy: 0.9417\n",
      "Epoch 2/10\n",
      "719/719 [==============================] - 10s 14ms/step - loss: 0.1772 - accuracy: 0.9451 - val_loss: 0.2233 - val_accuracy: 0.9361\n",
      "Epoch 3/10\n",
      "719/719 [==============================] - 11s 15ms/step - loss: 0.1440 - accuracy: 0.9537 - val_loss: 0.1334 - val_accuracy: 0.9579\n",
      "Epoch 4/10\n",
      "719/719 [==============================] - 10s 15ms/step - loss: 0.1216 - accuracy: 0.9602 - val_loss: 0.1388 - val_accuracy: 0.9546\n",
      "Epoch 5/10\n",
      "719/719 [==============================] - 11s 15ms/step - loss: 0.1115 - accuracy: 0.9648 - val_loss: 0.1066 - val_accuracy: 0.9657\n",
      "Epoch 6/10\n",
      "719/719 [==============================] - 11s 15ms/step - loss: 0.0977 - accuracy: 0.9674 - val_loss: 0.1138 - val_accuracy: 0.9624\n",
      "Epoch 7/10\n",
      "719/719 [==============================] - 11s 15ms/step - loss: 0.0974 - accuracy: 0.9675 - val_loss: 0.1271 - val_accuracy: 0.9608\n",
      "Epoch 8/10\n",
      "719/719 [==============================] - 11s 15ms/step - loss: 0.0949 - accuracy: 0.9693 - val_loss: 0.0858 - val_accuracy: 0.9741\n",
      "Epoch 9/10\n",
      "719/719 [==============================] - 10s 15ms/step - loss: 0.0909 - accuracy: 0.9698 - val_loss: 0.1059 - val_accuracy: 0.9654\n",
      "Epoch 10/10\n",
      "719/719 [==============================] - 10s 14ms/step - loss: 0.0793 - accuracy: 0.9724 - val_loss: 0.1032 - val_accuracy: 0.9678\n"
     ]
    }
   ],
   "source": [
    "history = baseline_dense.fit(x=train_reshaped, y=y_train, \n",
    "                    validation_data=(dev_reshaped, y_dev),\n",
    "                    batch_size=32, epochs=10)"
   ]
  },
  {
   "cell_type": "code",
   "execution_count": 360,
   "id": "3fd1c82b-3aef-47b6-a98e-b223f743a69b",
   "metadata": {},
   "outputs": [
    {
     "name": "stdout",
     "output_type": "stream",
     "text": [
      "              precision    recall  f1-score   support\n",
      "\n",
      "           0       0.97      0.93      0.95      1149\n",
      "           1       0.97      0.98      0.98      1149\n",
      "           2       0.92      0.99      0.95      1149\n",
      "           3       0.99      0.97      0.98      1150\n",
      "           4       0.99      0.97      0.98      1149\n",
      "\n",
      "    accuracy                           0.97      5746\n",
      "   macro avg       0.97      0.97      0.97      5746\n",
      "weighted avg       0.97      0.97      0.97      5746\n",
      "\n"
     ]
    }
   ],
   "source": [
    "ypred = baseline_dense.predict(dev_reshaped)\n",
    "ypred = [i.argmax() for i in ypred]\n",
    "results = classification_report(y_dev, ypred)\n",
    "print(results)"
   ]
  },
  {
   "cell_type": "markdown",
   "id": "1885a1a2-d415-4c59-ac5b-7f2ec9d58d1b",
   "metadata": {},
   "source": [
    "### CNN "
   ]
  },
  {
   "cell_type": "code",
   "execution_count": null,
   "id": "6f9e2d48-442b-438d-b173-43921b167c68",
   "metadata": {},
   "outputs": [],
   "source": [
    "def build_cnn(height:int=35, width:int=63):\n",
    "    \n",
    "    input_layer = tf.keras.Input(shape=(height, width, 1))\n",
    "    # normalize pixel values\n",
    "    normalized_input = tf.keras.layers.experimental.preprocessing.Rescaling(1./255, input_shape=(height, width, 1))(input_layer)\n",
    "    # block one\n",
    "    block_one = tf.keras.layers.Conv2D(16, 3, padding='same', activation='relu')(normalized_input)\n",
    "    block_one = tf.keras.layers.MaxPooling2D((2, 2))(block_one)\n",
    "    # block two\n",
    "    block_two = tf.keras.layers.Conv2D(32, 3, padding='same', activation='relu')(block_one)\n",
    "    block_two = tf.keras.layers.MaxPooling2D((2, 2))(block_two)\n",
    "    block_two = tf.keras.layers.Dropout(0.5)(block_two)\n",
    "    # block three\n",
    "    block_three = tf.keras.layers.Conv2D(64, 3, padding='same', activation='relu')(block_two)\n",
    "    block_three = tf.keras.layers.MaxPooling2D((2, 2))(block_three)\n",
    "    block_three = tf.keras.layers.Dropout(0.6)(block_three)\n",
    "    # flattening\n",
    "    flattened = tf.keras.layers.Flatten()(block_three)\n",
    "    # dense layer\n",
    "    dense_layer = tf.keras.layers.Dense(128, activation='relu')(flattened)\n",
    "    # output layer\n",
    "    output_layer = tf.keras.layers.Dense(5, activation='softmax')(dense_layer)\n",
    "    \n",
    "    # build model\n",
    "    model = tf.keras.Model(inputs=input_layer, outputs=output_layer)\n",
    "    \n",
    "    return model"
   ]
  },
  {
   "cell_type": "code",
   "execution_count": 347,
   "id": "bf40258e-38ec-4b5c-a886-dabeb55d8257",
   "metadata": {},
   "outputs": [],
   "source": [
    "baseline_cnn = build_cnn()\n",
    "# compiling\n",
    "optimizer = tf.keras.optimizers.Adam(learning_rate=0.001, name='Adam')\n",
    "baseline_cnn.compile(optimizer=optimizer, \n",
    "              loss=tf.keras.losses.SparseCategoricalCrossentropy(from_logits=False),\n",
    "              metrics=['accuracy'])"
   ]
  },
  {
   "cell_type": "code",
   "execution_count": 348,
   "id": "aae69bf4-8f12-4a78-8eef-96c9b66c36ec",
   "metadata": {},
   "outputs": [
    {
     "name": "stdout",
     "output_type": "stream",
     "text": [
      "Epoch 1/10\n",
      "719/719 [==============================] - 20s 27ms/step - loss: 0.3322 - accuracy: 0.8886 - val_loss: 0.1570 - val_accuracy: 0.9478\n",
      "Epoch 2/10\n",
      "719/719 [==============================] - 20s 28ms/step - loss: 0.1545 - accuracy: 0.9510 - val_loss: 0.1042 - val_accuracy: 0.9683\n",
      "Epoch 3/10\n",
      "719/719 [==============================] - 21s 29ms/step - loss: 0.1158 - accuracy: 0.9627 - val_loss: 0.0861 - val_accuracy: 0.9734\n",
      "Epoch 4/10\n",
      "719/719 [==============================] - 20s 28ms/step - loss: 0.0964 - accuracy: 0.9697 - val_loss: 0.0784 - val_accuracy: 0.9772\n",
      "Epoch 5/10\n",
      "719/719 [==============================] - 21s 29ms/step - loss: 0.0824 - accuracy: 0.9729 - val_loss: 0.0660 - val_accuracy: 0.9800\n",
      "Epoch 6/10\n",
      "719/719 [==============================] - 21s 29ms/step - loss: 0.0708 - accuracy: 0.9775 - val_loss: 0.0592 - val_accuracy: 0.9828\n",
      "Epoch 7/10\n",
      "719/719 [==============================] - 21s 30ms/step - loss: 0.0663 - accuracy: 0.9792 - val_loss: 0.0565 - val_accuracy: 0.9838\n",
      "Epoch 8/10\n",
      "719/719 [==============================] - 21s 29ms/step - loss: 0.0561 - accuracy: 0.9822 - val_loss: 0.0523 - val_accuracy: 0.9856\n",
      "Epoch 9/10\n",
      "719/719 [==============================] - 20s 28ms/step - loss: 0.0499 - accuracy: 0.9842 - val_loss: 0.0490 - val_accuracy: 0.9869\n",
      "Epoch 10/10\n",
      "719/719 [==============================] - 20s 28ms/step - loss: 0.0476 - accuracy: 0.9852 - val_loss: 0.0472 - val_accuracy: 0.9873\n"
     ]
    }
   ],
   "source": [
    "history = baseline_cnn.fit(x=X_train, y=y_train, \n",
    "                    validation_data=(X_dev, y_dev),\n",
    "                    batch_size=32, epochs=10)"
   ]
  },
  {
   "cell_type": "code",
   "execution_count": 349,
   "id": "81b1d4e9-9970-48fa-8ffb-6c92cf00dfd5",
   "metadata": {},
   "outputs": [
    {
     "name": "stdout",
     "output_type": "stream",
     "text": [
      "              precision    recall  f1-score   support\n",
      "\n",
      "           0       0.97      0.99      0.98      1149\n",
      "           1       0.99      0.98      0.98      1149\n",
      "           2       0.99      0.99      0.99      1149\n",
      "           3       1.00      0.99      0.99      1150\n",
      "           4       0.99      0.99      0.99      1149\n",
      "\n",
      "    accuracy                           0.99      5746\n",
      "   macro avg       0.99      0.99      0.99      5746\n",
      "weighted avg       0.99      0.99      0.99      5746\n",
      "\n"
     ]
    }
   ],
   "source": [
    "ypred = baseline_cnn.predict(X_dev)\n",
    "ypred = [i.argmax() for i in ypred]\n",
    "results = classification_report(y_dev, ypred)\n",
    "print(results)"
   ]
  }
 ],
 "metadata": {
  "kernelspec": {
   "display_name": "Python 3",
   "language": "python",
   "name": "python3"
  },
  "language_info": {
   "codemirror_mode": {
    "name": "ipython",
    "version": 3
   },
   "file_extension": ".py",
   "mimetype": "text/x-python",
   "name": "python",
   "nbconvert_exporter": "python",
   "pygments_lexer": "ipython3",
   "version": "3.8.8"
  }
 },
 "nbformat": 4,
 "nbformat_minor": 5
}
