{
 "cells": [
  {
   "cell_type": "code",
   "execution_count": 1,
   "id": "3f77add3-ff17-45e2-a955-5efedee75a4b",
   "metadata": {},
   "outputs": [],
   "source": [
    "import numpy as np\n",
    "import os \n",
    "import glob\n",
    "import PIL\n",
    "import re\n",
    "from collections import Counter\n",
    "import matplotlib.pyplot as plt\n",
    "import cv2\n",
    "from sklearn.model_selection import train_test_split"
   ]
  },
  {
   "cell_type": "code",
   "execution_count": 2,
   "id": "6def9348-0d33-478c-9c61-553c69b667d3",
   "metadata": {},
   "outputs": [],
   "source": [
    "def load_preprocessed_data(path, label_key):\n",
    "    \"\"\"loads preprocessed data and returns an array of images and\n",
    "    an array of labels\"\"\"\n",
    "    X = []\n",
    "    y = []\n",
    "    for class_name in label_key.keys():\n",
    "        class_path = os.path.join(path, class_name)\n",
    "        files = glob.glob(os.path.join(class_path,'*.jpg'))\n",
    "        for f in files:\n",
    "            image = np.asarray(PIL.Image.open(f))\n",
    "            image = np.expand_dims(image, axis=0)\n",
    "            X.append(image)\n",
    "            y.append(label_key[class_name])\n",
    "    return np.concatenate(X), np.array(y)"
   ]
  },
  {
   "cell_type": "code",
   "execution_count": 343,
   "id": "8fca8b35-bbcb-4952-8da1-d304e6b7bf9c",
   "metadata": {},
   "outputs": [],
   "source": [
    "def get_blank_idxs(images):\n",
    "    \"\"\"returns the indices of images post-preprocessing that \n",
    "    are blank\"\"\"\n",
    "    blank_idxs = []\n",
    "    for i in range(len(images)):\n",
    "        b = len(images[i][images[i]==255])/2205\n",
    "        if (b > 0.96):\n",
    "            blank_idxs.append(i)\n",
    "    return blank_idxs"
   ]
  },
  {
   "cell_type": "code",
   "execution_count": 344,
   "id": "2d788716-5990-4f27-9a66-c24eb127357e",
   "metadata": {},
   "outputs": [],
   "source": [
    "def random_undersample(images, labels):\n",
    "    \"\"\"returns a rebalanced dataset where each of the classes have been \n",
    "    random undersampled to reflect the class with the fewest examples\n",
    "    \"\"\"\n",
    "    n = Counter(labels).most_common()[-1][1]\n",
    "    indices = []\n",
    "    for i in range(5):\n",
    "        possible_indices = np.where(labels==i)[0]\n",
    "        if len(possible_indices) <= n:\n",
    "            indices += list(possible_indices)\n",
    "        else:\n",
    "            selections = np.random.randint(0, len(possible_indices), size=n)\n",
    "            selected_indices = possible_indices[selections]\n",
    "            indices += list(selected_indices)\n",
    "    return images[indices], labels[indices] "
   ]
  },
  {
   "cell_type": "code",
   "execution_count": 345,
   "id": "82bc7f7e-00d3-45b5-8c48-070842265eb6",
   "metadata": {},
   "outputs": [],
   "source": [
    "def build_directory(path:str):\n",
    "    \"\"\"builds the directories to store the train and dev datasets\n",
    "    \"\"\"\n",
    "    datasets = ['train', 'dev']\n",
    "    for dataset in datasets:\n",
    "        dataset_dir = os.path.join(path, dataset)\n",
    "        if not os.path.exists(dataset_dir):\n",
    "            os.mkdir(dataset_dir)\n",
    "            labels = ['center','up','down','left','right']\n",
    "            for l in labels:\n",
    "                labelpath = os.path.join(dataset_dir,l)\n",
    "                if not os.path.exists(labelpath):\n",
    "                    os.mkdir(labelpath)\n",
    "                    \n",
    "def save_prebuilt_datasets(path:str, dataset_dict:dict):\n",
    "    \"\"\"writes the train and dev datasets to disk to be \n",
    "    used in modeling later on\"\"\"\n",
    "    def get_next_idx(path):\n",
    "        \"\"\"finds the correct next file number for writing images \n",
    "        to a directory that already contains some images\"\"\"\n",
    "        files_in_dir = glob.glob(os.path.join(path, '*.jpg'))\n",
    "        if files_in_dir:  \n",
    "            file_numbers = [int(re.search(r'\\d+',filepath)[0]) for filepath in files_in_dir]\n",
    "            return max(file_numbers)+1\n",
    "        else:\n",
    "            return 1\n",
    "    label_key = {0:'center',\n",
    "                 1:'down',\n",
    "                 2:'left',\n",
    "                 3:'right',\n",
    "                 4:'up'}\n",
    "    for key in dataset_dict.keys():\n",
    "        images, labels = dataset_dict[key]\n",
    "        for image, label in zip(images, labels):\n",
    "            class_name = label_key[label]\n",
    "            save_dir = os.path.join(os.path.join(path,key),class_name)\n",
    "            idx = get_next_idx(save_dir)\n",
    "            save_path = os.path.join(save_dir, f'{idx}.jpg')\n",
    "            cv2.imwrite(save_path, image)"
   ]
  },
  {
   "cell_type": "code",
   "execution_count": 351,
   "id": "448e63ec-abc5-49c6-a142-9e80b801d444",
   "metadata": {},
   "outputs": [],
   "source": [
    "# load preprocessed data for train/dev sets\n",
    "label_key = {'center':0,\n",
    "             'down':1,\n",
    "             'left':2,\n",
    "             'right':3,\n",
    "             'up':4}\n",
    "\n",
    "preprocessed_images, preprocessed_labels = load_preprocessed_data('./data/preprocessed/', label_key)"
   ]
  },
  {
   "cell_type": "code",
   "execution_count": 352,
   "id": "ee8894b1-9784-4c79-9be4-0527dc5f3a52",
   "metadata": {},
   "outputs": [],
   "source": [
    "# find indexes of images that are blank\n",
    "blank_idxs = get_blank_idxs(preprocessed_images)\n",
    "non_blank_idxs = list(set(range(len(preprocessed_images))).difference(set(blank_idxs)))\n",
    "\n",
    "# remove those instances from the data\n",
    "filtered_images = preprocessed_images[non_blank_idxs]\n",
    "filtered_labels = preprocessed_labels[non_blank_idxs]"
   ]
  },
  {
   "cell_type": "code",
   "execution_count": 353,
   "id": "7586f7ac-487b-4160-bfa8-ef11edff1df4",
   "metadata": {},
   "outputs": [
    {
     "name": "stdout",
     "output_type": "stream",
     "text": [
      "Counter({0: 5746, 1: 5746, 2: 5746, 3: 5746, 4: 5746})\n"
     ]
    }
   ],
   "source": [
    "# rebalance classes in the dataset\n",
    "rebalanced_images, rebalanced_labels = random_undersample(filtered_images, filtered_labels)\n",
    "print(Counter(rebalanced_labels))"
   ]
  },
  {
   "cell_type": "code",
   "execution_count": 368,
   "id": "d13c4695-6e5b-4cc0-81a6-e1f6a4cea283",
   "metadata": {},
   "outputs": [],
   "source": [
    "# split rebalanced data into train/dev sets\n",
    "X_train, X_dev, y_train, y_dev = train_test_split(rebalanced_images, \n",
    "                                              rebalanced_labels, \n",
    "                                              test_size=0.2, \n",
    "                                              random_state=42, \n",
    "                                              shuffle=True,\n",
    "                                              stratify=rebalanced_labels)"
   ]
  },
  {
   "cell_type": "code",
   "execution_count": 369,
   "id": "81ed3483-e8f9-429c-aba8-2fdf593fcdcf",
   "metadata": {},
   "outputs": [],
   "source": [
    "destination_path = './data/'\n",
    "\n",
    "dataset_dict = {'train':[X_train, y_train], 'dev':[X_dev, y_dev]}\n",
    "\n",
    "# create directory for prebuilt datasets\n",
    "build_directory(destination_path)\n",
    "\n",
    "# write data to directory for use in modeling\n",
    "save_prebuilt_datasets(destination_path, dataset_dict)"
   ]
  },
  {
   "cell_type": "code",
   "execution_count": null,
   "id": "65137768-8a7d-49aa-8c9b-4620a37c3fac",
   "metadata": {},
   "outputs": [],
   "source": []
  }
 ],
 "metadata": {
  "kernelspec": {
   "display_name": "Python 3",
   "language": "python",
   "name": "python3"
  },
  "language_info": {
   "codemirror_mode": {
    "name": "ipython",
    "version": 3
   },
   "file_extension": ".py",
   "mimetype": "text/x-python",
   "name": "python",
   "nbconvert_exporter": "python",
   "pygments_lexer": "ipython3",
   "version": "3.8.8"
  }
 },
 "nbformat": 4,
 "nbformat_minor": 5
}
